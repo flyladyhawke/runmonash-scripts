{
 "cells": [
  {
   "cell_type": "code",
   "execution_count": 1,
   "metadata": {
    "collapsed": true,
    "scrolled": true
   },
   "outputs": [],
   "source": [
    "import os\n",
    "import math\n",
    "from __future__ import division\n",
    "\n",
    "class TimeTrial:\n",
    "    \n",
    "    def createHtml(self, filename, delimiter, cols):\n",
    "        f = open(filename, 'r')\n",
    "        \n",
    "        text  = '<p><span style=\"color:green\">Time in green is a PB</span></p>\\n'\n",
    "        text += '<p><span style=\"color:blue\">Time in blue is a first Time Trial</span></p>\\n'\n",
    "        text += '<table style=\"color:black;width:90%;border:1px solid black;border-collapse:collapse\">\\n'\n",
    "        text += '<tbody>'\n",
    "\n",
    "        # cell headers\n",
    "        text += '<tr>\\n'\n",
    "        for x in range(0, cols):\n",
    "            text  += '<th style=\"width:'+str(math.floor(100/cols * 4/5))+'%;border-bottom:1px solid black;padding-left:5px\"> Name</th>\\n'\n",
    "            text  += '<th style=\"width:'+str(math.floor(100/cols * 1/5))+'%;border-right:1px solid black;border-bottom:1px solid black\"> Time</th>\\n'\n",
    "        text += '</tr>\\n'\n",
    "\n",
    "        lines = []\n",
    "        for line in f:\n",
    "            lines.append(line)\n",
    "\n",
    "        num_lines = len(lines)\n",
    "        diff = int(math.ceil(num_lines/cols))\n",
    "        # split into columns\n",
    "        columns = []\n",
    "        for x in range(0, cols):\n",
    "            start = x * diff\n",
    "            end = (x+1) * diff\n",
    "            columns.append(lines[start:end]); \n",
    "            \n",
    "        parseformat = 'new';    \n",
    "          \n",
    "        if (parseformat == 'new'):    \n",
    "            for x in range(0, diff):\n",
    "                text += '<tr>\\n'\n",
    "                for y in range(0, len(columns)):\n",
    "                    if x < len(columns[y]) :\n",
    "                        split = columns[y][x].split(delimiter)\n",
    "                        name =  split[0].strip()\n",
    "                        score = split[len(split)-3]\n",
    "                        pb = split[len(split)-2]\n",
    "                        score = score.replace('\\n','')\n",
    "                        desc = split[len(split)-1]\n",
    "                        # print(desc)\n",
    "                        # handle different ways of showing PB or first TT\n",
    "                        if \"**\" in desc:\n",
    "                            score = '<span style=\"color:blue;\">'+score+'</span>'\n",
    "                        elif \"*\" in desc:\n",
    "                            score = '<span title=\"Prev PB - '+pb+'\" style=\"color:green;\">'+score+\"*\"'</span>'\n",
    "                        else:\n",
    "                            score = '<span title=\"Curr PB - '+pb+'\">'+score+'</span>'\n",
    "                            \n",
    "                        text += '<td style=\"border-bottom:1px dotted black;padding-left:5px\">'+name+'</td>\\n'\n",
    "                        text += '<td style=\"border-right:1px solid black;border-bottom:1px dotted black\">'+score+'</td>\\n'\n",
    "                    else:\n",
    "                        text += '<td style=\"border-bottom:1px dotted black;padding-left:5px\"> </td>\\n'\n",
    "                        text += '<td style=\"border-right:1px solid black;border-bottom:1px dotted black\"> </td>\\n'\n",
    "                text += '</tr>\\n'                  \n",
    "        else:\n",
    "            for x in range(0, diff):\n",
    "                text += '<tr>\\n'\n",
    "                for y in range(0, len(columns)):\n",
    "                    if x < len(columns[y]) :\n",
    "                        split = columns[y][x].split(delimiter)\n",
    "                        name =  columns[y][x].rsplit(delimiter, 1)[0].strip()\n",
    "                        score = split[len(split)-1]\n",
    "                        score = score.replace('\\n','')\n",
    "                        # handle different ways of showing PB or first TT\n",
    "                        if \"**\" in score:\n",
    "                            score = '<span style=\"color:blue;\">'+score.replace(\"**\", \"\")+'</span>'\n",
    "                        elif \"*\" in score:\n",
    "                            score = '<span style=\"color:green;\">'+score+'</span>'\n",
    "                        elif \" PB\" in score:\n",
    "                            score = '<span style=\"color:green;\">'+score.replace(\" PB\", \"*\")+'</span>'\n",
    "                        elif \"PB\" in score:    \n",
    "                            score = '<span style=\"color:green;\">'+score.replace(\"PB\", \"*\")+'</span>'\n",
    "\n",
    "                        text += '<td style=\"border-bottom:1px dotted black;padding-left:5px\">'+name+'</td>\\n'\n",
    "                        text += '<td style=\"border-right:1px solid black;border-bottom:1px dotted black\">'+score+'</td>\\n'\n",
    "                    else:\n",
    "                        text += '<td style=\"border-bottom:1px dotted black;padding-left:5px\"> </td>\\n'\n",
    "                        text += '<td style=\"border-right:1px solid black;border-bottom:1px dotted black\"> </td>\\n'\n",
    "                text += '</tr>\\n'\n",
    "\n",
    "        text += '</tbody>'\n",
    "        text += '</table>'\n",
    "        text += '\\n\\n\\n\\n\\n'  \n",
    "        return text    \n",
    " "
   ]
  },
  {
   "cell_type": "raw",
   "metadata": {},
   "source": []
  },
  {
   "cell_type": "code",
   "execution_count": 2,
   "metadata": {
    "collapsed": true
   },
   "outputs": [],
   "source": [
    "tt = TimeTrial()\n",
    "cols = 3"
   ]
  },
  {
   "cell_type": "code",
   "execution_count": 7,
   "metadata": {
    "collapsed": true
   },
   "outputs": [],
   "source": [
    "# text for file copied from facebook page\n",
    "#print(tt.createHtml('TT-2015-10-20.txt',' ',cols))"
   ]
  },
  {
   "cell_type": "code",
   "execution_count": null,
   "metadata": {
    "collapsed": true
   },
   "outputs": [],
   "source": [
    "# text for file copied from excel file\n",
    "#print(tt.createHtml('TT-2015-04-21.txt','\\t',cols)) "
   ]
  },
  {
   "cell_type": "code",
   "execution_count": null,
   "metadata": {
    "collapsed": true
   },
   "outputs": [],
   "source": [
    "# text for file copied from excel file\n",
    "#print(tt.createHtml('TT-2015-12-08.txt','\\t',cols))  "
   ]
  },
  {
   "cell_type": "code",
   "execution_count": 30,
   "metadata": {
    "collapsed": true
   },
   "outputs": [],
   "source": [
    "# text for file copied from excel file\n",
    "#print(tt.createHtml('TT-2016-04-12.txt',',',cols))  "
   ]
  },
  {
   "cell_type": "code",
   "execution_count": 31,
   "metadata": {
    "collapsed": true
   },
   "outputs": [],
   "source": [
    "# text for file copied from excel file\n",
    "#print(tt.createHtml('TT-2016-05-31.txt','\\t',cols))"
   ]
  },
  {
   "cell_type": "code",
   "execution_count": 6,
   "metadata": {
    "collapsed": true
   },
   "outputs": [],
   "source": [
    "# text for file copied from excel file\n",
    "#print(tt.createHtml('C:\\Rose\\RunMonash\\Results\\RunMonash TT Results 20_Sep_2016.csv',',',cols))"
   ]
  },
  {
   "cell_type": "code",
   "execution_count": 5,
   "metadata": {
    "collapsed": true
   },
   "outputs": [],
   "source": [
    "# text for file copied from excel file\n",
    "#print(tt.createHtml('C:\\Rose\\RunMonash\\Results\\RunMonash TT Results 15_Nov_2016.csv',',',cols))"
   ]
  },
  {
   "cell_type": "code",
   "execution_count": 9,
   "metadata": {
    "collapsed": true
   },
   "outputs": [],
   "source": [
    "# text for file copied from excel file\n",
    "#print(tt.createHtml('C:\\Rose\\Health\\RunMonash\\Results\\RunMonash TT Results 31_Jan_2017.csv',',',cols))"
   ]
  },
  {
   "cell_type": "code",
   "execution_count": 29,
   "metadata": {
    "collapsed": true
   },
   "outputs": [],
   "source": [
    "# text for file copied from excel file\n",
    "#print(tt.createHtml('C:\\Rose\\Health\\RunMonash\\Results\\RunMonash TT Results 04_Apr_2017.csv',',',cols))"
   ]
  },
  {
   "cell_type": "code",
   "execution_count": 4,
   "metadata": {},
   "outputs": [
    {
     "name": "stdout",
     "output_type": "stream",
     "text": [
      "<p><span style=\"color:green\">Time in green is a PB</span></p>\n",
      "<p><span style=\"color:blue\">Time in blue is a first Time Trial</span></p>\n",
      "<table style=\"color:black;width:90%;border:1px solid black;border-collapse:collapse\">\n",
      "<tbody><tr>\n",
      "<th style=\"width:26%;border-bottom:1px solid black;padding-left:5px\"> Name</th>\n",
      "<th style=\"width:6%;border-right:1px solid black;border-bottom:1px solid black\"> Time</th>\n",
      "<th style=\"width:26%;border-bottom:1px solid black;padding-left:5px\"> Name</th>\n",
      "<th style=\"width:6%;border-right:1px solid black;border-bottom:1px solid black\"> Time</th>\n",
      "<th style=\"width:26%;border-bottom:1px solid black;padding-left:5px\"> Name</th>\n",
      "<th style=\"width:6%;border-right:1px solid black;border-bottom:1px solid black\"> Time</th>\n",
      "</tr>\n",
      "<tr>\n",
      "<td style=\"border-bottom:1px dotted black;padding-left:5px\">Amanda Fontaine</td>\n",
      "<td style=\"border-right:1px solid black;border-bottom:1px dotted black\"><span style=\"color:blue;\">8:23</span></td>\n",
      "<td style=\"border-bottom:1px dotted black;padding-left:5px\">Guy Prochilo</td>\n",
      "<td style=\"border-right:1px solid black;border-bottom:1px dotted black\"><span title=\"Prev PB - 8:07\" style=\"color:green;\">7:39*</span></td>\n",
      "<td style=\"border-bottom:1px dotted black;padding-left:5px\">Nicky Eastaugh</td>\n",
      "<td style=\"border-right:1px solid black;border-bottom:1px dotted black\"><span title=\"Curr PB - 10:47\">14:00</span></td>\n",
      "</tr>\n",
      "<tr>\n",
      "<td style=\"border-bottom:1px dotted black;padding-left:5px\">Anna Kentwell</td>\n",
      "<td style=\"border-right:1px solid black;border-bottom:1px dotted black\"><span style=\"color:blue;\">8:02</span></td>\n",
      "<td style=\"border-bottom:1px dotted black;padding-left:5px\">Harrison Capper</td>\n",
      "<td style=\"border-right:1px solid black;border-bottom:1px dotted black\"><span title=\"Curr PB - 7:55\">8:10</span></td>\n",
      "<td style=\"border-bottom:1px dotted black;padding-left:5px\">Nine Mok</td>\n",
      "<td style=\"border-right:1px solid black;border-bottom:1px dotted black\"><span title=\"Curr PB - 8:09\">8:51</span></td>\n",
      "</tr>\n",
      "<tr>\n",
      "<td style=\"border-bottom:1px dotted black;padding-left:5px\">Ashan Kathriachchige</td>\n",
      "<td style=\"border-right:1px solid black;border-bottom:1px dotted black\"><span title=\"Prev PB - 9:50\" style=\"color:green;\">9:30*</span></td>\n",
      "<td style=\"border-bottom:1px dotted black;padding-left:5px\">Ian Henderson</td>\n",
      "<td style=\"border-right:1px solid black;border-bottom:1px dotted black\"><span title=\"Curr PB - 7:43\">8:07</span></td>\n",
      "<td style=\"border-bottom:1px dotted black;padding-left:5px\">Patrick Lu</td>\n",
      "<td style=\"border-right:1px solid black;border-bottom:1px dotted black\"><span title=\"Curr PB - 7:52\">7:54</span></td>\n",
      "</tr>\n",
      "<tr>\n",
      "<td style=\"border-bottom:1px dotted black;padding-left:5px\">Bozhi Jiang</td>\n",
      "<td style=\"border-right:1px solid black;border-bottom:1px dotted black\"><span title=\"Curr PB - 7:45\">9:19</span></td>\n",
      "<td style=\"border-bottom:1px dotted black;padding-left:5px\">Jeanette Baker</td>\n",
      "<td style=\"border-right:1px solid black;border-bottom:1px dotted black\"><span title=\"Curr PB - 9:45\">10:06</span></td>\n",
      "<td style=\"border-bottom:1px dotted black;padding-left:5px\">Peter Rushen</td>\n",
      "<td style=\"border-right:1px solid black;border-bottom:1px dotted black\"><span title=\"Curr PB - 7:21\">7:30</span></td>\n",
      "</tr>\n",
      "<tr>\n",
      "<td style=\"border-bottom:1px dotted black;padding-left:5px\">Chloe Catherwood</td>\n",
      "<td style=\"border-right:1px solid black;border-bottom:1px dotted black\"><span style=\"color:blue;\">9:29</span></td>\n",
      "<td style=\"border-bottom:1px dotted black;padding-left:5px\">Jeck Song Lau</td>\n",
      "<td style=\"border-right:1px solid black;border-bottom:1px dotted black\"><span style=\"color:blue;\">8:36</span></td>\n",
      "<td style=\"border-bottom:1px dotted black;padding-left:5px\">Phillip Webb</td>\n",
      "<td style=\"border-right:1px solid black;border-bottom:1px dotted black\"><span title=\"Curr PB - 9:23\">10:38</span></td>\n",
      "</tr>\n",
      "<tr>\n",
      "<td style=\"border-bottom:1px dotted black;padding-left:5px\">Chris Allan</td>\n",
      "<td style=\"border-right:1px solid black;border-bottom:1px dotted black\"><span title=\"Curr PB - 7:30\">8:08</span></td>\n",
      "<td style=\"border-bottom:1px dotted black;padding-left:5px\">Jeryl Liang</td>\n",
      "<td style=\"border-right:1px solid black;border-bottom:1px dotted black\"><span title=\"Curr PB - 9:32\">10:13</span></td>\n",
      "<td style=\"border-bottom:1px dotted black;padding-left:5px\">Rasoul Husaini</td>\n",
      "<td style=\"border-right:1px solid black;border-bottom:1px dotted black\"><span title=\"Prev PB - 10:30\" style=\"color:green;\">9:49*</span></td>\n",
      "</tr>\n",
      "<tr>\n",
      "<td style=\"border-bottom:1px dotted black;padding-left:5px\">Darren Landsberg</td>\n",
      "<td style=\"border-right:1px solid black;border-bottom:1px dotted black\"><span title=\"Curr PB - 7:39\">8:59</span></td>\n",
      "<td style=\"border-bottom:1px dotted black;padding-left:5px\">John Baker</td>\n",
      "<td style=\"border-right:1px solid black;border-bottom:1px dotted black\"><span title=\"Curr PB - 6:33\">6:59</span></td>\n",
      "<td style=\"border-bottom:1px dotted black;padding-left:5px\">Rebecca Kirkham</td>\n",
      "<td style=\"border-right:1px solid black;border-bottom:1px dotted black\"><span title=\"Prev PB - 8:06\" style=\"color:green;\">7:57*</span></td>\n",
      "</tr>\n",
      "<tr>\n",
      "<td style=\"border-bottom:1px dotted black;padding-left:5px\">David Dowe</td>\n",
      "<td style=\"border-right:1px solid black;border-bottom:1px dotted black\"><span title=\"Curr PB - 10:25\">13:56</span></td>\n",
      "<td style=\"border-bottom:1px dotted black;padding-left:5px\">John O'Leary</td>\n",
      "<td style=\"border-right:1px solid black;border-bottom:1px dotted black\"><span title=\"Curr PB - 8:14\">8:18</span></td>\n",
      "<td style=\"border-bottom:1px dotted black;padding-left:5px\">Richard Poulter</td>\n",
      "<td style=\"border-right:1px solid black;border-bottom:1px dotted black\"><span style=\"color:blue;\">8:25</span></td>\n",
      "</tr>\n",
      "<tr>\n",
      "<td style=\"border-bottom:1px dotted black;padding-left:5px\">Davor Coter</td>\n",
      "<td style=\"border-right:1px solid black;border-bottom:1px dotted black\"><span title=\"Curr PB - 8:16\">8:50</span></td>\n",
      "<td style=\"border-bottom:1px dotted black;padding-left:5px\">Jon Whittle</td>\n",
      "<td style=\"border-right:1px solid black;border-bottom:1px dotted black\"><span style=\"color:blue;\">11:43</span></td>\n",
      "<td style=\"border-bottom:1px dotted black;padding-left:5px\">Rosemary Waghorn</td>\n",
      "<td style=\"border-right:1px solid black;border-bottom:1px dotted black\"><span title=\"Prev PB - 10:32\" style=\"color:green;\">10:30*</span></td>\n",
      "</tr>\n",
      "<tr>\n",
      "<td style=\"border-bottom:1px dotted black;padding-left:5px\">Dennis Gellert</td>\n",
      "<td style=\"border-right:1px solid black;border-bottom:1px dotted black\"><span title=\"Curr PB - 7:51\">8:33</span></td>\n",
      "<td style=\"border-bottom:1px dotted black;padding-left:5px\">Justin Stepnell</td>\n",
      "<td style=\"border-right:1px solid black;border-bottom:1px dotted black\"><span title=\"Prev PB - 7:49\" style=\"color:green;\">7:48*</span></td>\n",
      "<td style=\"border-bottom:1px dotted black;padding-left:5px\">Sam Lindsay</td>\n",
      "<td style=\"border-right:1px solid black;border-bottom:1px dotted black\"><span title=\"Prev PB - 7:31\" style=\"color:green;\">7:27*</span></td>\n",
      "</tr>\n",
      "<tr>\n",
      "<td style=\"border-bottom:1px dotted black;padding-left:5px\">Dion Hemelov</td>\n",
      "<td style=\"border-right:1px solid black;border-bottom:1px dotted black\"><span style=\"color:blue;\">9:05</span></td>\n",
      "<td style=\"border-bottom:1px dotted black;padding-left:5px\">Laura Morley</td>\n",
      "<td style=\"border-right:1px solid black;border-bottom:1px dotted black\"><span title=\"Curr PB - 9:01\">10:38</span></td>\n",
      "<td style=\"border-bottom:1px dotted black;padding-left:5px\">Sandra Krofic</td>\n",
      "<td style=\"border-right:1px solid black;border-bottom:1px dotted black\"><span title=\"Curr PB - 9:11\">9:38</span></td>\n",
      "</tr>\n",
      "<tr>\n",
      "<td style=\"border-bottom:1px dotted black;padding-left:5px\">Dror Cohen</td>\n",
      "<td style=\"border-right:1px solid black;border-bottom:1px dotted black\"><span title=\"Curr PB - 6:58\">7:38</span></td>\n",
      "<td style=\"border-bottom:1px dotted black;padding-left:5px\">Liam Sharp</td>\n",
      "<td style=\"border-right:1px solid black;border-bottom:1px dotted black\"><span title=\"Curr PB - 7:51\">8:02</span></td>\n",
      "<td style=\"border-bottom:1px dotted black;padding-left:5px\">Sarah Munday</td>\n",
      "<td style=\"border-right:1px solid black;border-bottom:1px dotted black\"><span title=\"Prev PB - 9:00\" style=\"color:green;\">8:53*</span></td>\n",
      "</tr>\n",
      "<tr>\n",
      "<td style=\"border-bottom:1px dotted black;padding-left:5px\">Elinor Williams</td>\n",
      "<td style=\"border-right:1px solid black;border-bottom:1px dotted black\"><span title=\"Curr PB - 8:56\">9:08</span></td>\n",
      "<td style=\"border-bottom:1px dotted black;padding-left:5px\">Lowell Wan</td>\n",
      "<td style=\"border-right:1px solid black;border-bottom:1px dotted black\"><span title=\"Curr PB - 8:39\">10:41</span></td>\n",
      "<td style=\"border-bottom:1px dotted black;padding-left:5px\">Sophie Fontaine</td>\n",
      "<td style=\"border-right:1px solid black;border-bottom:1px dotted black\"><span title=\"Prev PB - 8:32\" style=\"color:green;\">8:27*</span></td>\n",
      "</tr>\n",
      "<tr>\n",
      "<td style=\"border-bottom:1px dotted black;padding-left:5px\">Emilie Guy</td>\n",
      "<td style=\"border-right:1px solid black;border-bottom:1px dotted black\"><span title=\"Curr PB - 6:51\">6:52</span></td>\n",
      "<td style=\"border-bottom:1px dotted black;padding-left:5px\">Madeleine Barnewell</td>\n",
      "<td style=\"border-right:1px solid black;border-bottom:1px dotted black\"><span title=\"Prev PB - 11:42\" style=\"color:green;\">11:23*</span></td>\n",
      "<td style=\"border-bottom:1px dotted black;padding-left:5px\">Steven Bonfadini</td>\n",
      "<td style=\"border-right:1px solid black;border-bottom:1px dotted black\"><span title=\"Curr PB - 6:01\">6:31</span></td>\n",
      "</tr>\n",
      "<tr>\n",
      "<td style=\"border-bottom:1px dotted black;padding-left:5px\">Erica Patterson</td>\n",
      "<td style=\"border-right:1px solid black;border-bottom:1px dotted black\"><span title=\"Curr PB - 7:28\">7:51</span></td>\n",
      "<td style=\"border-bottom:1px dotted black;padding-left:5px\">Mark Ford-Learnar</td>\n",
      "<td style=\"border-right:1px solid black;border-bottom:1px dotted black\"><span style=\"color:blue;\">7:56</span></td>\n",
      "<td style=\"border-bottom:1px dotted black;padding-left:5px\">Ted Elkington</td>\n",
      "<td style=\"border-right:1px solid black;border-bottom:1px dotted black\"><span title=\"Curr PB - 7:12\">7:34</span></td>\n",
      "</tr>\n",
      "<tr>\n",
      "<td style=\"border-bottom:1px dotted black;padding-left:5px\">Erika Florez</td>\n",
      "<td style=\"border-right:1px solid black;border-bottom:1px dotted black\"><span title=\"Prev PB - 7:07\" style=\"color:green;\">7:05*</span></td>\n",
      "<td style=\"border-bottom:1px dotted black;padding-left:5px\">Max Kaufman</td>\n",
      "<td style=\"border-right:1px solid black;border-bottom:1px dotted black\"><span style=\"color:blue;\">7:37</span></td>\n",
      "<td style=\"border-bottom:1px dotted black;padding-left:5px\">Thomas Robertson</td>\n",
      "<td style=\"border-right:1px solid black;border-bottom:1px dotted black\"><span title=\"Curr PB - 6:52\">7:11</span></td>\n",
      "</tr>\n",
      "<tr>\n",
      "<td style=\"border-bottom:1px dotted black;padding-left:5px\">Gina Griffin</td>\n",
      "<td style=\"border-right:1px solid black;border-bottom:1px dotted black\"><span style=\"color:blue;\">10:48</span></td>\n",
      "<td style=\"border-bottom:1px dotted black;padding-left:5px\">Michael Asquith</td>\n",
      "<td style=\"border-right:1px solid black;border-bottom:1px dotted black\"><span title=\"Curr PB - 7:53\">8:16</span></td>\n",
      "<td style=\"border-bottom:1px dotted black;padding-left:5px\"> </td>\n",
      "<td style=\"border-right:1px solid black;border-bottom:1px dotted black\"> </td>\n",
      "</tr>\n",
      "<tr>\n",
      "<td style=\"border-bottom:1px dotted black;padding-left:5px\">Graham Black</td>\n",
      "<td style=\"border-right:1px solid black;border-bottom:1px dotted black\"><span title=\"Curr PB - 8:11\">9:03</span></td>\n",
      "<td style=\"border-bottom:1px dotted black;padding-left:5px\">Michael Comport</td>\n",
      "<td style=\"border-right:1px solid black;border-bottom:1px dotted black\"><span title=\"Curr PB - 6:42\">6:45</span></td>\n",
      "<td style=\"border-bottom:1px dotted black;padding-left:5px\"> </td>\n",
      "<td style=\"border-right:1px solid black;border-bottom:1px dotted black\"> </td>\n",
      "</tr>\n",
      "</tbody></table>\n",
      "\n",
      "\n",
      "\n",
      "\n",
      "\n"
     ]
    }
   ],
   "source": [
    "print(tt.createHtml('C:\\Rose\\Health\\RunMonash\\Results\\RunMonash TT Results 25_Jul_2017-2.csv',',',cols))"
   ]
  },
  {
   "cell_type": "code",
   "execution_count": null,
   "metadata": {
    "collapsed": true
   },
   "outputs": [],
   "source": []
  }
 ],
 "metadata": {
  "kernelspec": {
   "display_name": "Python 3",
   "language": "python",
   "name": "python3"
  },
  "language_info": {
   "codemirror_mode": {
    "name": "ipython",
    "version": 3
   },
   "file_extension": ".py",
   "mimetype": "text/x-python",
   "name": "python",
   "nbconvert_exporter": "python",
   "pygments_lexer": "ipython3",
   "version": "3.6.1"
  }
 },
 "nbformat": 4,
 "nbformat_minor": 1
}
