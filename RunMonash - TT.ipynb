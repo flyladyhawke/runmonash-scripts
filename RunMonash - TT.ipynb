{
 "cells": [
  {
   "cell_type": "code",
   "execution_count": 5,
   "metadata": {
    "collapsed": false,
    "scrolled": true
   },
   "outputs": [],
   "source": [
    "import os\n",
    "import math\n",
    "\n",
    "class TimeTrial:\n",
    "    \n",
    "    def createHtml(self, filename, delimiter, cols):\n",
    "        f = open(filename, 'r')\n",
    "        \n",
    "        text  = '<p><span style=\"color:green\">Time in green is a PB</span></p>\\n'\n",
    "        text += '<p><span style=\"color:orange\">Time in orange is a first Time Trial</span></p>\\n'\n",
    "        text += '<table style=\"color:black;width:90%;border:1px solid black;border-collapse:collapse\">\\n'\n",
    "        text += '<tbody>'\n",
    "\n",
    "        # cell headers\n",
    "        text += '<tr>\\n'\n",
    "        for x in range(0, cols):\n",
    "            text  += '<th style=\"width:'+str(math.floor(100/cols * 4/5))+'%;border-bottom:1px solid black;padding-left:5px\"> Name</th>\\n'\n",
    "            text  += '<th style=\"width:'+str(math.floor(100/cols * 1/5))+'%;border-right:1px solid black;border-bottom:1px solid black\"> Time</th>\\n'\n",
    "        text += '</tr>\\n'\n",
    "\n",
    "        lines = []\n",
    "        for line in f:\n",
    "            lines.append(line)\n",
    "\n",
    "        num_lines = len(lines)\n",
    "        diff = math.ceil(num_lines/cols)\n",
    "\n",
    "        # split into columns\n",
    "        columns = []\n",
    "        for x in range(0, cols):\n",
    "            start = x * diff\n",
    "            end = (x+1) * diff\n",
    "            columns.append(lines[start:end]); \n",
    "\n",
    "        for x in range(0, diff):\n",
    "            text += '<tr>\\n'\n",
    "            for y in range(0, len(columns)):\n",
    "                if x < len(columns[y]) :\n",
    "                    split = columns[y][x].split(delimiter)\n",
    "                    name =  columns[y][x].rsplit(delimiter, 1)[0].strip()\n",
    "                    score = split[len(split)-1]\n",
    "                    score = score.replace('\\n','')\n",
    "                    # handle different ways of showing PB or first TT\n",
    "                    if \"**\" in score:\n",
    "                        score = '<span style=\"color:orange;\">'+score+'</span>'\n",
    "                    elif \"*\" in score:\n",
    "                        score = '<span style=\"color:green;\">'+score+'</span>'\n",
    "                    elif \" PB\" in score:\n",
    "                        score = '<span style=\"color:green;\">'+score.replace(\" PB\", \"*\")+'</span>'\n",
    "                    elif \"PB\" in score:    \n",
    "                        score = '<span style=\"color:green;\">'+score.replace(\"PB\", \"*\")+'</span>'\n",
    "                        \n",
    "                    text += '<td style=\"border-bottom:1px dotted black;padding-left:5px\">'+name+'</td>\\n'\n",
    "                    text += '<td style=\"border-right:1px solid black;border-bottom:1px dotted black\">'+score+'</td>\\n'\n",
    "                else:\n",
    "                    text += '<td style=\"border-bottom:1px dotted black;padding-left:5px\"> </td>\\n'\n",
    "                    text += '<td style=\"border-right:1px solid black;border-bottom:1px dotted black\"> </td>\\n'\n",
    "            text += '</tr>\\n'\n",
    "\n",
    "        text += '</tbody>'\n",
    "        text += '</table>'\n",
    "        text += '\\n\\n\\n\\n\\n'  \n",
    "        return text    \n",
    " "
   ]
  },
  {
   "cell_type": "raw",
   "metadata": {},
   "source": []
  },
  {
   "cell_type": "code",
   "execution_count": 6,
   "metadata": {
    "collapsed": false
   },
   "outputs": [],
   "source": [
    "tt = TimeTrial()\n",
    "cols = 3"
   ]
  },
  {
   "cell_type": "code",
   "execution_count": 7,
   "metadata": {
    "collapsed": false
   },
   "outputs": [],
   "source": [
    "# text for file copied from facebook page\n",
    "print(tt.createHtml('TT-2015-10-20.txt',' ',cols))"
   ]
  },
  {
   "cell_type": "code",
   "execution_count": null,
   "metadata": {
    "collapsed": true
   },
   "outputs": [],
   "source": [
    "# text for file copied from excel file\n",
    "print(tt.createHtml('TT-2015-04-21.txt','\\t',cols))  "
   ]
  }
 ],
 "metadata": {
  "kernelspec": {
   "display_name": "Python 3",
   "language": "python",
   "name": "python3"
  },
  "language_info": {
   "codemirror_mode": {
    "name": "ipython",
    "version": 3
   },
   "file_extension": ".py",
   "mimetype": "text/x-python",
   "name": "python",
   "nbconvert_exporter": "python",
   "pygments_lexer": "ipython3",
   "version": "3.4.3"
  }
 },
 "nbformat": 4,
 "nbformat_minor": 0
}
